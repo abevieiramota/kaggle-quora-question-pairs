{
 "cells": [
  {
   "cell_type": "code",
   "execution_count": 6,
   "metadata": {
    "collapsed": true
   },
   "outputs": [],
   "source": [
    "import pandas as pd\n",
    "import numpy as np\n",
    "\n",
    "pd.options.display.max_colwidth = 200\n",
    "\n",
    "%matplotlib inline"
   ]
  },
  {
   "cell_type": "markdown",
   "metadata": {},
   "source": [
    "# Reading"
   ]
  },
  {
   "cell_type": "code",
   "execution_count": 2,
   "metadata": {
    "collapsed": false
   },
   "outputs": [],
   "source": [
    "train = pd.read_csv(\"../data/train.csv/train.csv\", index_col='id', dtype={'is_duplicate': np.bool})\n",
    "\n",
    "train = train.fillna(' ')"
   ]
  },
  {
   "cell_type": "markdown",
   "metadata": {},
   "source": [
    "# Distribution"
   ]
  },
  {
   "cell_type": "code",
   "execution_count": 31,
   "metadata": {
    "collapsed": false
   },
   "outputs": [
    {
     "data": {
      "text/plain": [
       "False    255027\n",
       "True     149263\n",
       "Name: is_duplicate, dtype: int64"
      ]
     },
     "execution_count": 31,
     "metadata": {},
     "output_type": "execute_result"
    }
   ],
   "source": [
    "train.is_duplicate.value_counts()"
   ]
  },
  {
   "cell_type": "markdown",
   "metadata": {},
   "source": [
    "# Examples"
   ]
  },
  {
   "cell_type": "code",
   "execution_count": 53,
   "metadata": {
    "collapsed": false
   },
   "outputs": [
    {
     "data": {
      "text/html": [
       "<div>\n",
       "<table border=\"1\" class=\"dataframe\">\n",
       "  <thead>\n",
       "    <tr style=\"text-align: right;\">\n",
       "      <th></th>\n",
       "      <th>qid1</th>\n",
       "      <th>qid2</th>\n",
       "      <th>question1</th>\n",
       "      <th>question2</th>\n",
       "      <th>is_duplicate</th>\n",
       "    </tr>\n",
       "    <tr>\n",
       "      <th>id</th>\n",
       "      <th></th>\n",
       "      <th></th>\n",
       "      <th></th>\n",
       "      <th></th>\n",
       "      <th></th>\n",
       "    </tr>\n",
       "  </thead>\n",
       "  <tbody>\n",
       "    <tr>\n",
       "      <th>282900</th>\n",
       "      <td>402927</td>\n",
       "      <td>401714</td>\n",
       "      <td>How do I deal with someone whose dad damaged their self-esteem and what to do to improve it?</td>\n",
       "      <td>How can someone improve their self-esteem?</td>\n",
       "      <td>False</td>\n",
       "    </tr>\n",
       "    <tr>\n",
       "      <th>136936</th>\n",
       "      <td>218358</td>\n",
       "      <td>218359</td>\n",
       "      <td>What is the most unlucky country?</td>\n",
       "      <td>Which country is the most unlucky one and why?</td>\n",
       "      <td>True</td>\n",
       "    </tr>\n",
       "    <tr>\n",
       "      <th>63342</th>\n",
       "      <td>110249</td>\n",
       "      <td>110250</td>\n",
       "      <td>How can I convince my ex not to stop talking with me?</td>\n",
       "      <td>Why did my ex stop talking to me?</td>\n",
       "      <td>False</td>\n",
       "    </tr>\n",
       "    <tr>\n",
       "      <th>83158</th>\n",
       "      <td>140845</td>\n",
       "      <td>140846</td>\n",
       "      <td>An atom that loses one or more electrons will have what kind of charge?</td>\n",
       "      <td>What happens to an atom that loses an electron? Does it become stable? Does it just disappear? For example, if hydrogen lost its electron.</td>\n",
       "      <td>False</td>\n",
       "    </tr>\n",
       "    <tr>\n",
       "      <th>29131</th>\n",
       "      <td>53933</td>\n",
       "      <td>53934</td>\n",
       "      <td>If you could change anything about today's system of education, what would you change and why?</td>\n",
       "      <td>What would you change about your school system?</td>\n",
       "      <td>False</td>\n",
       "    </tr>\n",
       "    <tr>\n",
       "      <th>80020</th>\n",
       "      <td>136132</td>\n",
       "      <td>136133</td>\n",
       "      <td>What are the signals a guy gives when he's attracted towards a girl?</td>\n",
       "      <td>Interview experience of securifi company?</td>\n",
       "      <td>False</td>\n",
       "    </tr>\n",
       "    <tr>\n",
       "      <th>64015</th>\n",
       "      <td>111298</td>\n",
       "      <td>111299</td>\n",
       "      <td>As a feminine man, how can I embrace my femininity?</td>\n",
       "      <td>What makes a man's posture, gait and looks \"manly\" and rigid? What can a feminine looking guy do to make himself look manly?</td>\n",
       "      <td>False</td>\n",
       "    </tr>\n",
       "    <tr>\n",
       "      <th>68693</th>\n",
       "      <td>118667</td>\n",
       "      <td>118668</td>\n",
       "      <td>What percentage of women are either hypogamous or homogamous?</td>\n",
       "      <td>Do men like intelligent women?</td>\n",
       "      <td>False</td>\n",
       "    </tr>\n",
       "    <tr>\n",
       "      <th>50658</th>\n",
       "      <td>89967</td>\n",
       "      <td>78073</td>\n",
       "      <td>Is there freedom of speech on Quora?</td>\n",
       "      <td>Why does Quora have no freedom of speech?</td>\n",
       "      <td>True</td>\n",
       "    </tr>\n",
       "    <tr>\n",
       "      <th>336677</th>\n",
       "      <td>464066</td>\n",
       "      <td>464067</td>\n",
       "      <td>How will The Wall come down in Game of thrones Season 7?</td>\n",
       "      <td>[Spoiler] What are predictions of where we will see Arya in Game of Thrones season 7?</td>\n",
       "      <td>False</td>\n",
       "    </tr>\n",
       "    <tr>\n",
       "      <th>103925</th>\n",
       "      <td>171662</td>\n",
       "      <td>171663</td>\n",
       "      <td>Why is Antisemitism considered to be a form of racism, but Russophobia is a part of the Western mass culture?</td>\n",
       "      <td>Is web hosting necessary in starting days for a blog?</td>\n",
       "      <td>False</td>\n",
       "    </tr>\n",
       "    <tr>\n",
       "      <th>232209</th>\n",
       "      <td>342185</td>\n",
       "      <td>2962</td>\n",
       "      <td>How do I know if a girl really loves me?</td>\n",
       "      <td>How can I tell if my girlfriend really loves me?</td>\n",
       "      <td>True</td>\n",
       "    </tr>\n",
       "    <tr>\n",
       "      <th>391729</th>\n",
       "      <td>145772</td>\n",
       "      <td>524339</td>\n",
       "      <td>Android Devices: How do I set my SD card as default storage on Android Lollipop 5.1?</td>\n",
       "      <td>I have an Android smartphone. What's the different and its purpose between \"Android\" folder in my internal storage and in my SD card?</td>\n",
       "      <td>False</td>\n",
       "    </tr>\n",
       "    <tr>\n",
       "      <th>245195</th>\n",
       "      <td>357989</td>\n",
       "      <td>310249</td>\n",
       "      <td>How can mice climb inside and up walls?</td>\n",
       "      <td>How can mice climb up walls?</td>\n",
       "      <td>True</td>\n",
       "    </tr>\n",
       "    <tr>\n",
       "      <th>362244</th>\n",
       "      <td>26116</td>\n",
       "      <td>104738</td>\n",
       "      <td>Is energy in vacuum real? How do we know that this energy that can be borrowed and returned immediately is real if virtual particles didn't exist then?</td>\n",
       "      <td>Do virtual particles and energy in vacuum really exist? How do we know if they exist if we can't observe them? Where are they?</td>\n",
       "      <td>True</td>\n",
       "    </tr>\n",
       "    <tr>\n",
       "      <th>249364</th>\n",
       "      <td>362990</td>\n",
       "      <td>362991</td>\n",
       "      <td>What is that one thing you wanted to do?</td>\n",
       "      <td>What is the one thing you want to do but you can't?</td>\n",
       "      <td>False</td>\n",
       "    </tr>\n",
       "    <tr>\n",
       "      <th>129293</th>\n",
       "      <td>207728</td>\n",
       "      <td>29046</td>\n",
       "      <td>Why doesn't Antarctica appear on some maps?</td>\n",
       "      <td>Why don't Antarctic bases appear on maps?</td>\n",
       "      <td>True</td>\n",
       "    </tr>\n",
       "    <tr>\n",
       "      <th>336265</th>\n",
       "      <td>463599</td>\n",
       "      <td>463600</td>\n",
       "      <td>Between the Snapdragon and MediaTek chipset, which is the best choice when it comes to browsing and gaming?</td>\n",
       "      <td>What is your review of MediaTek?</td>\n",
       "      <td>False</td>\n",
       "    </tr>\n",
       "    <tr>\n",
       "      <th>151066</th>\n",
       "      <td>237615</td>\n",
       "      <td>237616</td>\n",
       "      <td>What are some unknown facts about Indian history?</td>\n",
       "      <td>What are the unknown facts about India or Indian history?</td>\n",
       "      <td>True</td>\n",
       "    </tr>\n",
       "    <tr>\n",
       "      <th>3770</th>\n",
       "      <td>7467</td>\n",
       "      <td>7468</td>\n",
       "      <td>What are some facts you know about animals?</td>\n",
       "      <td>What are some interesting things about animals?</td>\n",
       "      <td>True</td>\n",
       "    </tr>\n",
       "  </tbody>\n",
       "</table>\n",
       "</div>"
      ],
      "text/plain": [
       "          qid1    qid2  \\\n",
       "id                       \n",
       "282900  402927  401714   \n",
       "136936  218358  218359   \n",
       "63342   110249  110250   \n",
       "83158   140845  140846   \n",
       "29131    53933   53934   \n",
       "80020   136132  136133   \n",
       "64015   111298  111299   \n",
       "68693   118667  118668   \n",
       "50658    89967   78073   \n",
       "336677  464066  464067   \n",
       "103925  171662  171663   \n",
       "232209  342185    2962   \n",
       "391729  145772  524339   \n",
       "245195  357989  310249   \n",
       "362244   26116  104738   \n",
       "249364  362990  362991   \n",
       "129293  207728   29046   \n",
       "336265  463599  463600   \n",
       "151066  237615  237616   \n",
       "3770      7467    7468   \n",
       "\n",
       "                                                                                                                                                      question1  \\\n",
       "id                                                                                                                                                                \n",
       "282900                                                             How do I deal with someone whose dad damaged their self-esteem and what to do to improve it?   \n",
       "136936                                                                                                                        What is the most unlucky country?   \n",
       "63342                                                                                                     How can I convince my ex not to stop talking with me?   \n",
       "83158                                                                                   An atom that loses one or more electrons will have what kind of charge?   \n",
       "29131                                                            If you could change anything about today's system of education, what would you change and why?   \n",
       "80020                                                                                      What are the signals a guy gives when he's attracted towards a girl?   \n",
       "64015                                                                                                       As a feminine man, how can I embrace my femininity?   \n",
       "68693                                                                                             What percentage of women are either hypogamous or homogamous?   \n",
       "50658                                                                                                                      Is there freedom of speech on Quora?   \n",
       "336677                                                                                                 How will The Wall come down in Game of thrones Season 7?   \n",
       "103925                                            Why is Antisemitism considered to be a form of racism, but Russophobia is a part of the Western mass culture?   \n",
       "232209                                                                                                                 How do I know if a girl really loves me?   \n",
       "391729                                                                     Android Devices: How do I set my SD card as default storage on Android Lollipop 5.1?   \n",
       "245195                                                                                                                  How can mice climb inside and up walls?   \n",
       "362244  Is energy in vacuum real? How do we know that this energy that can be borrowed and returned immediately is real if virtual particles didn't exist then?   \n",
       "249364                                                                                                                 What is that one thing you wanted to do?   \n",
       "129293                                                                                                              Why doesn't Antarctica appear on some maps?   \n",
       "336265                                              Between the Snapdragon and MediaTek chipset, which is the best choice when it comes to browsing and gaming?   \n",
       "151066                                                                                                        What are some unknown facts about Indian history?   \n",
       "3770                                                                                                                What are some facts you know about animals?   \n",
       "\n",
       "                                                                                                                                         question2  \\\n",
       "id                                                                                                                                                   \n",
       "282900                                                                                                  How can someone improve their self-esteem?   \n",
       "136936                                                                                              Which country is the most unlucky one and why?   \n",
       "63342                                                                                                            Why did my ex stop talking to me?   \n",
       "83158   What happens to an atom that loses an electron? Does it become stable? Does it just disappear? For example, if hydrogen lost its electron.   \n",
       "29131                                                                                              What would you change about your school system?   \n",
       "80020                                                                                                    Interview experience of securifi company?   \n",
       "64015                 What makes a man's posture, gait and looks \"manly\" and rigid? What can a feminine looking guy do to make himself look manly?   \n",
       "68693                                                                                                               Do men like intelligent women?   \n",
       "50658                                                                                                    Why does Quora have no freedom of speech?   \n",
       "336677                                                       [Spoiler] What are predictions of where we will see Arya in Game of Thrones season 7?   \n",
       "103925                                                                                       Is web hosting necessary in starting days for a blog?   \n",
       "232209                                                                                            How can I tell if my girlfriend really loves me?   \n",
       "391729       I have an Android smartphone. What's the different and its purpose between \"Android\" folder in my internal storage and in my SD card?   \n",
       "245195                                                                                                                How can mice climb up walls?   \n",
       "362244              Do virtual particles and energy in vacuum really exist? How do we know if they exist if we can't observe them? Where are they?   \n",
       "249364                                                                                         What is the one thing you want to do but you can't?   \n",
       "129293                                                                                                   Why don't Antarctic bases appear on maps?   \n",
       "336265                                                                                                            What is your review of MediaTek?   \n",
       "151066                                                                                   What are the unknown facts about India or Indian history?   \n",
       "3770                                                                                               What are some interesting things about animals?   \n",
       "\n",
       "       is_duplicate  \n",
       "id                   \n",
       "282900        False  \n",
       "136936         True  \n",
       "63342         False  \n",
       "83158         False  \n",
       "29131         False  \n",
       "80020         False  \n",
       "64015         False  \n",
       "68693         False  \n",
       "50658          True  \n",
       "336677        False  \n",
       "103925        False  \n",
       "232209         True  \n",
       "391729        False  \n",
       "245195         True  \n",
       "362244         True  \n",
       "249364        False  \n",
       "129293         True  \n",
       "336265        False  \n",
       "151066         True  \n",
       "3770           True  "
      ]
     },
     "execution_count": 53,
     "metadata": {},
     "output_type": "execute_result"
    }
   ],
   "source": [
    "train.sample(20)"
   ]
  },
  {
   "cell_type": "markdown",
   "metadata": {},
   "source": [
    "# Questions size"
   ]
  },
  {
   "cell_type": "code",
   "execution_count": 3,
   "metadata": {
    "collapsed": true
   },
   "outputs": [],
   "source": [
    "all_questions = pd.concat([train.question1, train.question2])"
   ]
  },
  {
   "cell_type": "code",
   "execution_count": 41,
   "metadata": {
    "collapsed": false
   },
   "outputs": [
    {
     "data": {
      "text/plain": [
       "count    808578.000000\n",
       "mean         59.822689\n",
       "std          31.963666\n",
       "min           1.000000\n",
       "25%          39.000000\n",
       "50%          51.000000\n",
       "75%          72.000000\n",
       "max        1169.000000\n",
       "dtype: float64"
      ]
     },
     "execution_count": 41,
     "metadata": {},
     "output_type": "execute_result"
    }
   ],
   "source": [
    "all_questions.str.len().describe()"
   ]
  },
  {
   "cell_type": "code",
   "execution_count": 44,
   "metadata": {
    "collapsed": false
   },
   "outputs": [
    {
     "data": {
      "text/plain": [
       "id\n",
       "63712       What?\n",
       "270146         Ok\n",
       "231879    deleted\n",
       "96725           ?\n",
       "106577      What?\n",
       "dtype: object"
      ]
     },
     "execution_count": 44,
     "metadata": {},
     "output_type": "execute_result"
    }
   ],
   "source": [
    "all_questions[all_questions.str.len() < 10].sample(5)"
   ]
  },
  {
   "cell_type": "code",
   "execution_count": 39,
   "metadata": {
    "collapsed": false
   },
   "outputs": [
    {
     "data": {
      "text/plain": [
       "<matplotlib.axes._subplots.AxesSubplot at 0x188a94b27f0>"
      ]
     },
     "execution_count": 39,
     "metadata": {},
     "output_type": "execute_result"
    },
    {
     "data": {
      "image/png": "[encoded data removed]",
      "text/plain": [
       "<matplotlib.figure.Figure at 0x188ae768e10>"
      ]
     },
     "metadata": {},
     "output_type": "display_data"
    }
   ],
   "source": [
    "all_questions.str.len().plot('hist', bins=100)"
   ]
  },
  {
   "cell_type": "code",
   "execution_count": 40,
   "metadata": {
    "collapsed": false
   },
   "outputs": [
    {
     "data": {
      "text/plain": [
       "<matplotlib.axes._subplots.AxesSubplot at 0x188b23ed518>"
      ]
     },
     "execution_count": 40,
     "metadata": {},
     "output_type": "execute_result"
    },
    {
     "data": {
      "image/png": "[encoded data removed]",
      "text/plain": [
       "<matplotlib.figure.Figure at 0x188aec3d160>"
      ]
     },
     "metadata": {},
     "output_type": "display_data"
    }
   ],
   "source": [
    "all_questions.str.len().plot('box')"
   ]
  },
  {
   "cell_type": "markdown",
   "metadata": {},
   "source": [
    "# Same question"
   ]
  },
  {
   "cell_type": "code",
   "execution_count": 28,
   "metadata": {
    "collapsed": false
   },
   "outputs": [
    {
     "data": {
      "text/plain": [
       "Index(['qid1', 'qid2', 'question1', 'question2', 'is_duplicate'], dtype='object')"
      ]
     },
     "execution_count": 28,
     "metadata": {},
     "output_type": "execute_result"
    }
   ],
   "source": [
    "train.columns"
   ]
  },
  {
   "cell_type": "code",
   "execution_count": 30,
   "metadata": {
    "collapsed": false
   },
   "outputs": [
    {
     "data": {
      "text/plain": [
       "False    404290\n",
       "dtype: int64"
      ]
     },
     "execution_count": 30,
     "metadata": {},
     "output_type": "execute_result"
    }
   ],
   "source": [
    "train.apply(lambda row: row['question1'] == row['question2'], axis=1).value_counts()"
   ]
  },
  {
   "cell_type": "markdown",
   "metadata": {},
   "source": [
    "there is no equal pairs of questions"
   ]
  },
  {
   "cell_type": "markdown",
   "metadata": {},
   "source": [
    "# Most frequent repeated questions"
   ]
  },
  {
   "cell_type": "code",
   "execution_count": 24,
   "metadata": {
    "collapsed": true
   },
   "outputs": [],
   "source": [
    "from nltk.probability import FreqDist"
   ]
  },
  {
   "cell_type": "code",
   "execution_count": 26,
   "metadata": {
    "collapsed": false
   },
   "outputs": [
    {
     "data": {
      "text/plain": [
       "[('What are the best ways to lose weight?', 161),\n",
       " (\"How can you look at someone's private Instagram account without following them?\",\n",
       "  120),\n",
       " ('How can I lose weight quickly?', 111),\n",
       " (\"What's the easiest way to make money online?\", 88),\n",
       " ('Can you see who views your Instagram?', 79)]"
      ]
     },
     "execution_count": 26,
     "metadata": {},
     "output_type": "execute_result"
    }
   ],
   "source": [
    "freqdist = FreqDist(all_questions)\n",
    "\n",
    "freqdist.most_common(5)"
   ]
  },
  {
   "cell_type": "markdown",
   "metadata": {
    "collapsed": true
   },
   "source": [
    "# Vocabulary"
   ]
  },
  {
   "cell_type": "code",
   "execution_count": 4,
   "metadata": {
    "collapsed": true
   },
   "outputs": [],
   "source": [
    "from nltk.probability import FreqDist\n",
    "from nltk.tokenize import RegexpTokenizer\n",
    "from nltk.corpus import stopwords"
   ]
  },
  {
   "cell_type": "code",
   "execution_count": 5,
   "metadata": {
    "collapsed": false
   },
   "outputs": [
    {
     "data": {
      "text/plain": [
       "[('best', 70581),\n",
       " ('get', 39541),\n",
       " ('india', 28908),\n",
       " ('people', 26123),\n",
       " ('like', 25644)]"
      ]
     },
     "execution_count": 5,
     "metadata": {},
     "output_type": "execute_result"
    }
   ],
   "source": [
    "text = ' '.join(all_questions)\n",
    "\n",
    "tokenizer = RegexpTokenizer(\"[\\w']+\")\n",
    "stops = stopwords.words('english')\n",
    "\n",
    "freqdist = FreqDist(word for word in (word.lower() for word in tokenizer.tokenize(text)) if word not in stops)\n",
    "\n",
    "freqdist.most_common(5)"
   ]
  },
  {
   "cell_type": "code",
   "execution_count": 12,
   "metadata": {
    "collapsed": false
   },
   "outputs": [
    {
     "data": {
      "image/png": "[encoded data removed]",
      "text/plain": [
       "<matplotlib.figure.Figure at 0x206770afb70>"
      ]
     },
     "metadata": {},
     "output_type": "display_data"
    }
   ],
   "source": [
    "freqdist.plot(50, cumulative=True)"
   ]
  },
  {
   "cell_type": "code",
   "execution_count": null,
   "metadata": {
    "collapsed": true
   },
   "outputs": [],
   "source": []
  },
  {
   "cell_type": "code",
   "execution_count": null,
   "metadata": {
    "collapsed": true
   },
   "outputs": [],
   "source": []
  },
  {
   "cell_type": "code",
   "execution_count": null,
   "metadata": {
    "collapsed": true
   },
   "outputs": [],
   "source": []
  },
  {
   "cell_type": "code",
   "execution_count": null,
   "metadata": {
    "collapsed": true
   },
   "outputs": [],
   "source": []
  },
  {
   "cell_type": "code",
   "execution_count": null,
   "metadata": {
    "collapsed": true
   },
   "outputs": [],
   "source": []
  }
 ],
 "metadata": {
  "anaconda-cloud": {},
  "kernelspec": {
   "display_name": "Python [conda root]",
   "language": "python",
   "name": "conda-root-py"
  },
  "language_info": {
   "codemirror_mode": {
    "name": "ipython",
    "version": 3
   },
   "file_extension": ".py",
   "mimetype": "text/x-python",
   "name": "python",
   "nbconvert_exporter": "python",
   "pygments_lexer": "ipython3",
   "version": "3.5.2"
  }
 },
 "nbformat": 4,
 "nbformat_minor": 1
}
